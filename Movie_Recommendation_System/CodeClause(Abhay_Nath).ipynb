{
  "nbformat": 4,
  "nbformat_minor": 0,
  "metadata": {
    "colab": {
      "provenance": [],
      "authorship_tag": "ABX9TyNmFx2qa5xVKvmRdFUQXXoo",
      "include_colab_link": true
    },
    "kernelspec": {
      "name": "python3",
      "display_name": "Python 3"
    },
    "language_info": {
      "name": "python"
    }
  },
  "cells": [
    {
      "cell_type": "markdown",
      "metadata": {
        "id": "view-in-github",
        "colab_type": "text"
      },
      "source": [
        "<a href=\"https://colab.research.google.com/github/AbhayNath001/Code_Clause_Movie_Recommendation_System/blob/main/CodeClause(Abhay_Nath).ipynb\" target=\"_parent\"><img src=\"https://colab.research.google.com/assets/colab-badge.svg\" alt=\"Open In Colab\"/></a>"
      ]
    },
    {
      "cell_type": "code",
      "execution_count": null,
      "metadata": {
        "id": "rrprLxF0-ZNs"
      },
      "outputs": [],
      "source": [
        "import pandas as pd\n",
        "from sklearn.feature_extraction.text import CountVectorizer\n",
        "from sklearn.metrics.pairwise import cosine_similarity\n",
        "\n",
        "movies = pd.read_csv('movies.csv')\n",
        "movies['combined_features'] = movies.apply(lambda row: ' '.join([str(row['genre']), str(row['director']), str(row['country'])]), axis=1)\n",
        "count_vectorizer = CountVectorizer()\n",
        "count_matrix = count_vectorizer.fit_transform(movies['combined_features'])\n",
        "cosine_sim = cosine_similarity(count_matrix)\n",
        "\n",
        "def get_recommendations(movie_genre, movie_country):\n",
        "    filtered_movies = movies[(movies['genre'] == movie_genre) & (movies['country'] == movie_country)]\n",
        "\n",
        "    if filtered_movies.empty:\n",
        "        return \"No recommendations found for the given genre and country.\"\n",
        "\n",
        "    movie_index = filtered_movies.index[0]\n",
        "    similarity_scores = list(enumerate(cosine_sim[movie_index]))\n",
        "    sorted_movies = sorted(similarity_scores, key=lambda x: x[1], reverse=True)\n",
        "    top_movies = sorted_movies[1:6]\n",
        "    recommended_movies = [movies.iloc[movie[0]]['name'] for movie in top_movies]\n",
        "    return recommended_movies\n",
        "\n",
        "genre = input(\"Enter which type of movie you want to see: \")\n",
        "genre = genre.capitalize()\n",
        "country = input(\"Enter the country of the movie: \")\n",
        "country = country.capitalize()\n",
        "recommended_movies = get_recommendations(genre, country)\n",
        "print(\"--------------------------------------------------------\\n\")\n",
        "print(f\"Recommended movies for {genre} movies from {country}:\")\n",
        "for movie in recommended_movies:\n",
        "    print(\"\\n\" + movie)\n"
      ]
    }
  ]
}